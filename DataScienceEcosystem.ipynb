{
 "cells": [
  {
   "cell_type": "code",
   "execution_count": null,
   "id": "1c077738-d519-407c-b128-52543dfab9ab",
   "metadata": {},
   "outputs": [],
   "source": [
    "#Exercise 2: Create markdown cell with title of the notebook"
   ]
  },
  {
   "cell_type": "markdown",
   "id": "0e9adc88-e0da-4d6c-b446-4f922c01f195",
   "metadata": {},
   "source": [
    "# Data Science Tools and Ecosystem"
   ]
  },
  {
   "cell_type": "code",
   "execution_count": null,
   "id": "f148ae22-1d90-473e-93c0-28b5e736501f",
   "metadata": {},
   "outputs": [],
   "source": [
    "#Exercise 3 - Create a markdown cell for an introduction"
   ]
  },
  {
   "cell_type": "markdown",
   "id": "d9c0a88e-8f58-4124-a7d8-dd1e8bbbb8c6",
   "metadata": {},
   "source": [
    "In this notebook, Data Science Tools and Ecosystem are summarized."
   ]
  },
  {
   "cell_type": "code",
   "execution_count": null,
   "id": "c29a57f4-687d-43b0-bdba-82acee895117",
   "metadata": {},
   "outputs": [],
   "source": [
    "#Exercise 10- Insert a markdown cell to list Objectives"
   ]
  },
  {
   "cell_type": "markdown",
   "id": "27bb4153-96dd-4f56-a6b2-29b87f2c23a8",
   "metadata": {},
   "source": [
    "**Objectives:**\n",
    "- Popular Languages in Data Science\n",
    "- Libraries in Data Science\n",
    "- tools used by Data Scientist\n",
    "- Arithmetic expressions"
   ]
  },
  {
   "cell_type": "code",
   "execution_count": null,
   "id": "98550540-c033-4ce9-a0ff-8b7ade67e334",
   "metadata": {},
   "outputs": [],
   "source": [
    "#Exercise 4 - Create a markdown cell to list data science languages"
   ]
  },
  {
   "cell_type": "markdown",
   "id": "dfa85931-a877-4707-bfce-66bbc0a5df47",
   "metadata": {},
   "source": [
    "Some of the popular languages that Data Scientists use are:\n",
    "1. Java\n",
    "2. Python\n",
    "3. C++"
   ]
  },
  {
   "cell_type": "code",
   "execution_count": null,
   "id": "d985055e-79f2-4ee9-8073-772477995d89",
   "metadata": {},
   "outputs": [],
   "source": [
    "#Exercise 5 - Create a markdown cell to list data science libraries"
   ]
  },
  {
   "cell_type": "markdown",
   "id": "0e8402c6-a57f-49e1-b2f5-4e893c215ecb",
   "metadata": {
    "tags": []
   },
   "source": [
    "Some of the commonly used libraries used by Data Scientists include:\n",
    "1. NumPy\n",
    "2. Keras\n",
    "3. Pandas\n",
    "4. Plotly"
   ]
  },
  {
   "cell_type": "markdown",
   "id": "269c9bfa-433a-430d-9761-5f93aa410440",
   "metadata": {},
   "source": [
    "#Exercise 6 - Create a markdown cell to list data science tools"
   ]
  },
  {
   "cell_type": "markdown",
   "id": "75f4dade-60eb-42db-bbf6-4319241492e1",
   "metadata": {},
   "source": [
    "| Data Science Tools. |\n",
    "|---------------------|\n",
    "|  Apache Spark       |\n",
    "| Jupiter Notebook    |\n",
    "| Tensorflow          |\n",
    "| Tableau             |"
   ]
  },
  {
   "cell_type": "code",
   "execution_count": null,
   "id": "38af7a36-0b0b-427c-b156-e8f08ee7a310",
   "metadata": {},
   "outputs": [],
   "source": [
    "#Exercise 7 - Create a markdown cell introducing arithmetic expression examples"
   ]
  },
  {
   "cell_type": "markdown",
   "id": "b6de5bbc-e029-4780-a48d-22f5334cae68",
   "metadata": {},
   "source": [
    "### Below are a few examples of evaluating arithmetic expressions in Python"
   ]
  },
  {
   "cell_type": "code",
   "execution_count": null,
   "id": "e4e3df6b-6950-4c34-aa64-d5ec30800418",
   "metadata": {},
   "outputs": [],
   "source": [
    "#Exercise 8:Create a code cell to multiply and add numbers"
   ]
  },
  {
   "cell_type": "code",
   "execution_count": 5,
   "id": "0d6d541b-b426-4587-b51a-df7114aaabb5",
   "metadata": {
    "tags": []
   },
   "outputs": [
    {
     "name": "stdout",
     "output_type": "stream",
     "text": [
      "This a simple arithmetic expression to mutiply then add integers\n"
     ]
    },
    {
     "data": {
      "text/plain": [
       "17"
      ]
     },
     "execution_count": 5,
     "metadata": {},
     "output_type": "execute_result"
    }
   ],
   "source": [
    "print(\"This a simple arithmetic expression to mutiply then add integers\")\n",
    "(3*4)+5"
   ]
  },
  {
   "cell_type": "code",
   "execution_count": null,
   "id": "4f9e1307-3083-4f04-b41d-fc0ed58927db",
   "metadata": {},
   "outputs": [],
   "source": [
    "#Exercise 9 - Create a code cell to convert minutes to hours"
   ]
  },
  {
   "cell_type": "code",
   "execution_count": 6,
   "id": "075e57a8-28a0-4c79-b48e-f00058354c60",
   "metadata": {
    "tags": []
   },
   "outputs": [
    {
     "name": "stdout",
     "output_type": "stream",
     "text": [
      "This will convert 200 minutes to hours by diving by 60\n"
     ]
    },
    {
     "data": {
      "text/plain": [
       "3.3333333333333335"
      ]
     },
     "execution_count": 6,
     "metadata": {},
     "output_type": "execute_result"
    }
   ],
   "source": [
    "print(\"This will convert 200 minutes to hours by diving by 60\")\n",
    "200/60"
   ]
  },
  {
   "cell_type": "code",
   "execution_count": null,
   "id": "71268e81-baad-42eb-975d-4d8854b6bbfe",
   "metadata": {},
   "outputs": [],
   "source": [
    "#Exercise 11 - Create a markdown cell to indicate the Author's name"
   ]
  },
  {
   "cell_type": "markdown",
   "id": "05ae9889-ec32-4638-86eb-4d647f32e5f9",
   "metadata": {},
   "source": [
    "## Author\n",
    "Jacqueline Ivette Torres"
   ]
  },
  {
   "cell_type": "code",
   "execution_count": null,
   "id": "72f15651-3c63-45e9-86af-e1740576cdb2",
   "metadata": {},
   "outputs": [],
   "source": []
  }
 ],
 "metadata": {
  "kernelspec": {
   "display_name": "Python",
   "language": "python",
   "name": "conda-env-python-py"
  },
  "language_info": {
   "codemirror_mode": {
    "name": "ipython",
    "version": 3
   },
   "file_extension": ".py",
   "mimetype": "text/x-python",
   "name": "python",
   "nbconvert_exporter": "python",
   "pygments_lexer": "ipython3",
   "version": "3.7.12"
  }
 },
 "nbformat": 4,
 "nbformat_minor": 5
}
